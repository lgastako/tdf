{
 "cells": [
  {
   "cell_type": "code",
   "execution_count": 1,
   "id": "bb32a6f4-6bf3-49fd-be91-a4c4191400f7",
   "metadata": {},
   "outputs": [
    {
     "data": {
      "text/plain": [
       "2"
      ]
     },
     "metadata": {},
     "output_type": "display_data"
    }
   ],
   "source": [
    "1+1"
   ]
  },
  {
   "cell_type": "code",
   "execution_count": 2,
   "id": "63f2f69f-f3cf-4197-9340-e96cdcc95bca",
   "metadata": {},
   "outputs": [
    {
     "ename": "",
     "evalue": "",
     "header": "MessageHeader {mhIdentifiers = [\"5f4817f1-d77d-4766-a321-8cdba4efc85d\"], mhParentHeader = Just (MessageHeader {mhIdentifiers = [\"5f4817f1-d77d-4766-a321-8cdba4efc85d\"], mhParentHeader = Nothing, mhMetadata = Metadata (fromList [(\"recordTiming\",Bool False),(\"deletedCells\",Array []),(\"cellId\",String \"63f2f69f-f3cf-4197-9340-e96cdcc95bca\")]), mhMessageId = UUID {uuidToString = \"712b87d1-353a-4c3a-b3b7-5a10b6f8904c\"}, mhSessionId = UUID {uuidToString = \"5f4817f1-d77d-4766-a321-8cdba4efc85d\"}, mhUsername = \"\", mhMsgType = ExecuteRequestMessage, mhBuffers = []}), mhMetadata = Metadata (fromList []), mhMessageId = UUID {uuidToString = \"5b3c959f-b2ce-4dfe-8acb-33d4a5cd5543\"}, mhSessionId = UUID {uuidToString = \"5f4817f1-d77d-4766-a321-8cdba4efc85d\"}, mhUsername = \"\", mhMsgType = ExecuteErrorMessage, mhBuffers = []}",
     "output_type": "error",
     "traceback": [
      "<interactive>:1:1: error:\n    Could not find module ‘TDF.DataFrame’\n    Use -v (or `:set -v` in ghci) to see a list of the files searched for."
     ]
    }
   ],
   "source": [
    "import qualified TDF.DataFrame as DF"
   ]
  },
  {
   "cell_type": "code",
   "execution_count": null,
   "id": "b7b89463-8437-40d0-9aa1-ba180aa74486",
   "metadata": {},
   "outputs": [],
   "source": []
  }
 ],
 "metadata": {
  "kernelspec": {
   "display_name": "Haskell",
   "language": "haskell",
   "name": "haskell"
  },
  "language_info": {
   "codemirror_mode": "ihaskell",
   "file_extension": ".hs",
   "mimetype": "text/x-haskell",
   "name": "haskell",
   "pygments_lexer": "Haskell",
   "version": "8.10.7"
  }
 },
 "nbformat": 4,
 "nbformat_minor": 5
}
