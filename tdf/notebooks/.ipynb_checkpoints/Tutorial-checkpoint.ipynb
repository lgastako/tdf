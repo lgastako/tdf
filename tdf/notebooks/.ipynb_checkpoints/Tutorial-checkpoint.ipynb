{
 "cells": [
  {
   "cell_type": "code",
   "execution_count": 1,
   "id": "bb32a6f4-6bf3-49fd-be91-a4c4191400f7",
   "metadata": {},
   "outputs": [
    {
     "data": {
      "text/plain": [
       "*** Parser [source]:\n",
       "!!! Parser [source]: finished in 0.07 milliseconds, allocated 0.085 megabytes\n",
       "*** Desugar:\n",
       "*** Simplify [expr]:\n",
       "!!! Simplify [expr]: finished in 0.12 milliseconds, allocated 0.124 megabytes\n",
       "*** CorePrep [expr]:\n",
       "!!! CorePrep [expr]: finished in 0.06 milliseconds, allocated 0.043 megabytes\n",
       "*** ByteCodeGen [Ghci8]:\n",
       "!!! ByteCodeGen [Ghci8]: finished in 0.12 milliseconds, allocated 0.134 megabytes\n",
       "*** Parser [source]:\n",
       "!!! Parser [source]: finished in 0.07 milliseconds, allocated 0.085 megabytes\n",
       "*** Desugar:\n",
       "*** Simplify [expr]:\n",
       "!!! Simplify [expr]: finished in 0.16 milliseconds, allocated 0.124 megabytes\n",
       "*** CorePrep [expr]:\n",
       "!!! CorePrep [expr]: finished in 0.04 milliseconds, allocated 0.043 megabytes\n",
       "*** ByteCodeGen [Ghci9]:\n",
       "!!! ByteCodeGen [Ghci9]: finished in 0.11 milliseconds, allocated 0.134 megabytes\n",
       "*** Parser [source]:\n",
       "!!! Parser [source]: finished in 0.37 milliseconds, allocated 0.049 megabytes\n",
       "*** Desugar:\n",
       "*** Simplify [expr]:\n",
       "!!! Simplify [expr]: finished in 0.06 milliseconds, allocated 0.047 megabytes\n",
       "*** CorePrep [expr]:\n",
       "!!! CorePrep [expr]: finished in 0.02 milliseconds, allocated 0.019 megabytes\n",
       "*** ByteCodeGen [Ghci10]:\n",
       "!!! ByteCodeGen [Ghci10]: finished in 0.04 milliseconds, allocated 0.033 megabytes\n",
       "*** Parser [source]:\n",
       "!!! Parser [source]: finished in 0.03 milliseconds, allocated 0.026 megabytes\n",
       "*** Desugar:\n",
       "*** Simplify [expr]:\n",
       "!!! Simplify [expr]: finished in 0.43 milliseconds, allocated 0.296 megabytes\n",
       "*** CorePrep [expr]:\n",
       "!!! CorePrep [expr]: finished in 0.07 milliseconds, allocated 0.029 megabytes\n",
       "*** ByteCodeGen [Ghci11]:\n",
       "!!! ByteCodeGen [Ghci11]: finished in 0.12 milliseconds, allocated 0.074 megabytes\n",
       "*** Parser [source]:\n",
       "!!! Parser [source]: finished in 0.12 milliseconds, allocated 0.041 megabytes\n",
       "*** Desugar:\n",
       "*** Simplify [expr]:\n",
       "!!! Simplify [expr]: finished in 0.07 milliseconds, allocated 0.047 megabytes\n",
       "*** CorePrep [expr]:\n",
       "!!! CorePrep [expr]: finished in 0.03 milliseconds, allocated 0.019 megabytes\n",
       "*** ByteCodeGen [Ghci11]:\n",
       "!!! ByteCodeGen [Ghci11]: finished in 0.09 milliseconds, allocated 0.033 megabytes\n",
       "*** Parser [source]:\n",
       "!!! Parser [source]: finished in 0.05 milliseconds, allocated 0.049 megabytes\n",
       "*** Desugar:\n",
       "*** Simplify [expr]:\n",
       "!!! Simplify [expr]: finished in 0.05 milliseconds, allocated 0.047 megabytes\n",
       "*** CorePrep [expr]:\n",
       "!!! CorePrep [expr]: finished in 0.05 milliseconds, allocated 0.019 megabytes\n",
       "*** ByteCodeGen [Ghci12]:\n",
       "!!! ByteCodeGen [Ghci12]: finished in 0.03 milliseconds, allocated 0.033 megabytes\n",
       "*** Parser [source]:\n",
       "!!! Parser [source]: finished in 0.07 milliseconds, allocated 0.069 megabytes\n",
       "*** Desugar:\n",
       "*** Simplify [expr]:\n",
       "!!! Simplify [expr]: finished in 0.23 milliseconds, allocated 0.120 megabytes\n",
       "*** CorePrep [expr]:\n",
       "!!! CorePrep [expr]: finished in 0.08 milliseconds, allocated 0.043 megabytes\n",
       "*** ByteCodeGen [Ghci13]:\n",
       "!!! ByteCodeGen [Ghci13]: finished in 0.14 milliseconds, allocated 0.131 megabytes\n",
       "*** Parser [source]:\n",
       "!!! Parser [source]: finished in 0.05 milliseconds, allocated 0.069 megabytes\n",
       "*** Desugar:\n",
       "*** Simplify [expr]:\n",
       "!!! Simplify [expr]: finished in 0.15 milliseconds, allocated 0.120 megabytes\n",
       "*** CorePrep [expr]:\n",
       "!!! CorePrep [expr]: finished in 0.08 milliseconds, allocated 0.043 megabytes\n",
       "*** ByteCodeGen [Ghci14]:\n",
       "!!! ByteCodeGen [Ghci14]: finished in 0.14 milliseconds, allocated 0.131 megabytes\n",
       "*** Parser [source]:\n",
       "!!! Parser [source]: finished in 0.05 milliseconds, allocated 0.080 megabytes\n",
       "*** Desugar:\n",
       "*** Simplify [expr]:\n",
       "!!! Simplify [expr]: finished in 0.11 milliseconds, allocated 0.124 megabytes\n",
       "*** CorePrep [expr]:\n",
       "!!! CorePrep [expr]: finished in 0.04 milliseconds, allocated 0.044 megabytes\n",
       "*** ByteCodeGen [Ghci15]:\n",
       "!!! ByteCodeGen [Ghci15]: finished in 0.10 milliseconds, allocated 0.134 megabytes\n",
       "*** Parser [source]:\n",
       "!!! Parser [source]: finished in 0.05 milliseconds, allocated 0.079 megabytes\n",
       "*** Desugar:\n",
       "*** Simplify [expr]:\n",
       "!!! Simplify [expr]: finished in 0.40 milliseconds, allocated 0.124 megabytes\n",
       "*** CorePrep [expr]:\n",
       "!!! CorePrep [expr]: finished in 0.07 milliseconds, allocated 0.044 megabytes\n",
       "*** ByteCodeGen [Ghci16]:\n",
       "!!! ByteCodeGen [Ghci16]: finished in 0.08 milliseconds, allocated 0.134 megabytes"
      ]
     },
     "metadata": {},
     "output_type": "display_data"
    }
   ],
   "source": [
    ":set -v"
   ]
  },
  {
   "cell_type": "code",
   "execution_count": 2,
   "id": "63f2f69f-f3cf-4197-9340-e96cdcc95bca",
   "metadata": {},
   "outputs": [
    {
     "ename": "",
     "evalue": "",
     "header": "MessageHeader {mhIdentifiers = [\"9544e03a-8d21-44d8-b9d7-87d250603aa1\"], mhParentHeader = Just (MessageHeader {mhIdentifiers = [\"9544e03a-8d21-44d8-b9d7-87d250603aa1\"], mhParentHeader = Nothing, mhMetadata = Metadata (fromList [(\"recordTiming\",Bool False),(\"deletedCells\",Array []),(\"cellId\",String \"63f2f69f-f3cf-4197-9340-e96cdcc95bca\")]), mhMessageId = UUID {uuidToString = \"4a240f7e-c479-49c1-953f-52333a998354\"}, mhSessionId = UUID {uuidToString = \"9544e03a-8d21-44d8-b9d7-87d250603aa1\"}, mhUsername = \"\", mhMsgType = ExecuteRequestMessage, mhBuffers = []}), mhMetadata = Metadata (fromList []), mhMessageId = UUID {uuidToString = \"cd54e6aa-095f-4d67-937f-83e667b82d5c\"}, mhSessionId = UUID {uuidToString = \"9544e03a-8d21-44d8-b9d7-87d250603aa1\"}, mhUsername = \"\", mhMsgType = ExecuteErrorMessage, mhBuffers = []}",
     "output_type": "error",
     "traceback": [
      "<interactive>:1:1: error:\n    Could not find module ‘TDF.DataFrame’\n    Locations searched:\n      TDF/DataFrame.hs\n      TDF/DataFrame.lhs\n      TDF/DataFrame.hsig\n      TDF/DataFrame.lhsig"
     ]
    }
   ],
   "source": [
    "import qualified TDF.DataFrame as DF"
   ]
  },
  {
   "cell_type": "code",
   "execution_count": null,
   "id": "cc6b9bf6-8d7a-423b-9cbb-a62b733c6972",
   "metadata": {},
   "outputs": [],
   "source": []
  },
  {
   "cell_type": "code",
   "execution_count": null,
   "id": "66e5b5ac-0e71-446f-b979-10640cb4b537",
   "metadata": {},
   "outputs": [],
   "source": []
  }
 ],
 "metadata": {
  "kernelspec": {
   "display_name": "Haskell",
   "language": "haskell",
   "name": "haskell"
  },
  "language_info": {
   "codemirror_mode": "ihaskell",
   "file_extension": ".hs",
   "mimetype": "text/x-haskell",
   "name": "haskell",
   "pygments_lexer": "Haskell",
   "version": "8.10.7"
  }
 },
 "nbformat": 4,
 "nbformat_minor": 5
}
